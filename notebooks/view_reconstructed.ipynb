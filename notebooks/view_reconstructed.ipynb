{
 "cells": [
  {
   "cell_type": "markdown",
   "metadata": {},
   "source": [
    "# To run this notebook\n",
    "\n",
    "+ Ensure that you have [installed Nix](https://github.com/jacg/IC/tree/manage-with-nix/doc/nix/install-nix)\n",
    "\n",
    "+ Paste this into your shell:\n",
    "  ```sh\n",
    "  git clone https://github.com/jacg/petalo.git\n",
    "  cd petalo\n",
    "  direnv allow\n",
    "  jupyter notebook notebooks/view_reconstructed.ipynb\n",
    "  ```\n",
    "  \n",
    "Make sure that `file_in` (in the next cell) points to the location of the coincidences file on your system."
   ]
  },
  {
   "cell_type": "code",
   "execution_count": null,
   "metadata": {},
   "outputs": [],
   "source": [
    "args = dict(\n",
    "    # Set this to point wherever your data are stored\n",
    "    #file_in = \"data/in/test_lor_phantom.h5\",\n",
    "    file_in = 'phantom_combined.h5',\n",
    "    #file_in = \"data/in/full_body_phantom_reco_combined.h5\",\n",
    "\n",
    "    # Number of events to read from input file [default: all events in file]\n",
    "    #n_events = 350000,\n",
    "\n",
    "    # Change this to `True` if you want to use true rather than reco data\n",
    "    use_true = False,\n",
    "\n",
    "    # Path to dataset within the HDF5 file, if different from default\n",
    "    dataset = 'reco_info/lors',\n",
    "    \n",
    "    # Set to some truthy value if the dataset contains LORs rather than events\n",
    "    read_lors = True,\n",
    "    \n",
    "    # Size of reconstruction region in mm [default: 180, 180, 180]\n",
    "    size = (360, 360, 360),\n",
    "    \n",
    ")\n"
   ]
  },
  {
   "cell_type": "code",
   "execution_count": null,
   "metadata": {},
   "outputs": [],
   "source": [
    "from IPython.core.display import display, HTML\n",
    "display(HTML(\"<style>.container { width:100% !important; }</style>\"))\n",
    "\n",
    "from utils import compare_c_rust"
   ]
  },
  {
   "cell_type": "code",
   "execution_count": null,
   "metadata": {},
   "outputs": [],
   "source": [
    "compare_c_rust(**args)"
   ]
  },
  {
   "cell_type": "code",
   "execution_count": null,
   "metadata": {},
   "outputs": [],
   "source": [
    "compare_c_rust(**args,       tof=350)"
   ]
  },
  {
   "cell_type": "code",
   "execution_count": null,
   "metadata": {
    "scrolled": false
   },
   "outputs": [],
   "source": [
    "compare_c_rust(**args,       tof=200)"
   ]
  },
  {
   "cell_type": "code",
   "execution_count": null,
   "metadata": {},
   "outputs": [],
   "source": [
    "compare_c_rust(**args,       tof=20)"
   ]
  },
  {
   "cell_type": "code",
   "execution_count": null,
   "metadata": {},
   "outputs": [],
   "source": [
    "compare_c_rust(**args,       shape=(40,40,40))"
   ]
  }
 ],
 "metadata": {
  "kernelspec": {
   "display_name": "Python 3",
   "language": "python",
   "name": "python3"
  },
  "language_info": {
   "codemirror_mode": {
    "name": "ipython",
    "version": 3
   },
   "file_extension": ".py",
   "mimetype": "text/x-python",
   "name": "python",
   "nbconvert_exporter": "python",
   "pygments_lexer": "ipython3",
   "version": "3.8.5"
  }
 },
 "nbformat": 4,
 "nbformat_minor": 4
}
